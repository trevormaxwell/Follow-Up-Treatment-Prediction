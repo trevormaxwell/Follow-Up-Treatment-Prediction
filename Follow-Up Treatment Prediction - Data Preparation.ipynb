{
 "cells": [
  {
   "cell_type": "markdown",
   "id": "df65fdec",
   "metadata": {},
   "source": [
    "# Trevor Maxwell\n",
    "## Follow-Up Treatment Prediction - Data Preparation\n",
    "### D20230722"
   ]
  },
  {
   "cell_type": "code",
   "execution_count": 1,
   "id": "c5dbe3fb",
   "metadata": {},
   "outputs": [],
   "source": [
    "# import necessary libraries\n",
    "\n",
    "import pandas as pd\n",
    "import numpy as np"
   ]
  },
  {
   "cell_type": "code",
   "execution_count": 2,
   "id": "ba5c3346",
   "metadata": {},
   "outputs": [
    {
     "data": {
      "text/html": [
       "<div>\n",
       "<style scoped>\n",
       "    .dataframe tbody tr th:only-of-type {\n",
       "        vertical-align: middle;\n",
       "    }\n",
       "\n",
       "    .dataframe tbody tr th {\n",
       "        vertical-align: top;\n",
       "    }\n",
       "\n",
       "    .dataframe thead th {\n",
       "        text-align: right;\n",
       "    }\n",
       "</style>\n",
       "<table border=\"1\" class=\"dataframe\">\n",
       "  <thead>\n",
       "    <tr style=\"text-align: right;\">\n",
       "      <th></th>\n",
       "      <th>HAEMATOCRIT</th>\n",
       "      <th>HAEMOGLOBINS</th>\n",
       "      <th>ERYTHROCYTE</th>\n",
       "      <th>LEUCOCYTE</th>\n",
       "      <th>THROMBOCYTE</th>\n",
       "      <th>MCH</th>\n",
       "      <th>MCHC</th>\n",
       "      <th>MCV</th>\n",
       "      <th>AGE</th>\n",
       "      <th>SEX</th>\n",
       "      <th>SOURCE</th>\n",
       "    </tr>\n",
       "  </thead>\n",
       "  <tbody>\n",
       "    <tr>\n",
       "      <th>0</th>\n",
       "      <td>35.1</td>\n",
       "      <td>11.8</td>\n",
       "      <td>4.65</td>\n",
       "      <td>6.3</td>\n",
       "      <td>310</td>\n",
       "      <td>25.4</td>\n",
       "      <td>33.6</td>\n",
       "      <td>75.5</td>\n",
       "      <td>1</td>\n",
       "      <td>F</td>\n",
       "      <td>out</td>\n",
       "    </tr>\n",
       "    <tr>\n",
       "      <th>1</th>\n",
       "      <td>43.5</td>\n",
       "      <td>14.8</td>\n",
       "      <td>5.39</td>\n",
       "      <td>12.7</td>\n",
       "      <td>334</td>\n",
       "      <td>27.5</td>\n",
       "      <td>34.0</td>\n",
       "      <td>80.7</td>\n",
       "      <td>1</td>\n",
       "      <td>F</td>\n",
       "      <td>out</td>\n",
       "    </tr>\n",
       "    <tr>\n",
       "      <th>2</th>\n",
       "      <td>33.5</td>\n",
       "      <td>11.3</td>\n",
       "      <td>4.74</td>\n",
       "      <td>13.2</td>\n",
       "      <td>305</td>\n",
       "      <td>23.8</td>\n",
       "      <td>33.7</td>\n",
       "      <td>70.7</td>\n",
       "      <td>1</td>\n",
       "      <td>F</td>\n",
       "      <td>out</td>\n",
       "    </tr>\n",
       "    <tr>\n",
       "      <th>3</th>\n",
       "      <td>39.1</td>\n",
       "      <td>13.7</td>\n",
       "      <td>4.98</td>\n",
       "      <td>10.5</td>\n",
       "      <td>366</td>\n",
       "      <td>27.5</td>\n",
       "      <td>35.0</td>\n",
       "      <td>78.5</td>\n",
       "      <td>1</td>\n",
       "      <td>F</td>\n",
       "      <td>out</td>\n",
       "    </tr>\n",
       "    <tr>\n",
       "      <th>4</th>\n",
       "      <td>30.9</td>\n",
       "      <td>9.9</td>\n",
       "      <td>4.23</td>\n",
       "      <td>22.1</td>\n",
       "      <td>333</td>\n",
       "      <td>23.4</td>\n",
       "      <td>32.0</td>\n",
       "      <td>73.0</td>\n",
       "      <td>1</td>\n",
       "      <td>M</td>\n",
       "      <td>out</td>\n",
       "    </tr>\n",
       "  </tbody>\n",
       "</table>\n",
       "</div>"
      ],
      "text/plain": [
       "   HAEMATOCRIT  HAEMOGLOBINS  ERYTHROCYTE  LEUCOCYTE  THROMBOCYTE   MCH  MCHC  \\\n",
       "0         35.1          11.8         4.65        6.3          310  25.4  33.6   \n",
       "1         43.5          14.8         5.39       12.7          334  27.5  34.0   \n",
       "2         33.5          11.3         4.74       13.2          305  23.8  33.7   \n",
       "3         39.1          13.7         4.98       10.5          366  27.5  35.0   \n",
       "4         30.9           9.9         4.23       22.1          333  23.4  32.0   \n",
       "\n",
       "    MCV  AGE SEX SOURCE  \n",
       "0  75.5    1   F    out  \n",
       "1  80.7    1   F    out  \n",
       "2  70.7    1   F    out  \n",
       "3  78.5    1   F    out  \n",
       "4  73.0    1   M    out  "
      ]
     },
     "execution_count": 2,
     "metadata": {},
     "output_type": "execute_result"
    }
   ],
   "source": [
    "# import dataframe\n",
    "\n",
    "patient_df = pd.read_csv('data-ori.csv')\n",
    "\n",
    "# preview dataframe\n",
    "patient_df.head()"
   ]
  },
  {
   "cell_type": "markdown",
   "id": "385b7b90",
   "metadata": {},
   "source": [
    "### Lowercase column headers\n",
    " - lowercasing column header names will ease programming mistakes"
   ]
  },
  {
   "cell_type": "code",
   "execution_count": 3,
   "id": "366b45f4",
   "metadata": {},
   "outputs": [
    {
     "name": "stdout",
     "output_type": "stream",
     "text": [
      "Index(['HAEMATOCRIT', 'HAEMOGLOBINS', 'ERYTHROCYTE', 'LEUCOCYTE',\n",
      "       'THROMBOCYTE', 'MCH', 'MCHC', 'MCV', 'AGE', 'SEX', 'SOURCE'],\n",
      "      dtype='object')\n"
     ]
    }
   ],
   "source": [
    "# view column names prior to cleaning\n",
    "\n",
    "print(patient_df.columns)"
   ]
  },
  {
   "cell_type": "code",
   "execution_count": 4,
   "id": "b431f523",
   "metadata": {},
   "outputs": [],
   "source": [
    "# lowercase column headers\n",
    "patient_df.columns = [x.lower() for x in patient_df.columns]"
   ]
  },
  {
   "cell_type": "code",
   "execution_count": 5,
   "id": "68c1d345",
   "metadata": {},
   "outputs": [
    {
     "name": "stdout",
     "output_type": "stream",
     "text": [
      "Index(['haematocrit', 'haemoglobins', 'erythrocyte', 'leucocyte',\n",
      "       'thrombocyte', 'mch', 'mchc', 'mcv', 'age', 'sex', 'source'],\n",
      "      dtype='object')\n"
     ]
    }
   ],
   "source": [
    "# view column names after lowercasing header\n",
    "\n",
    "print(patient_df.columns)"
   ]
  },
  {
   "cell_type": "markdown",
   "id": "b93e1379",
   "metadata": {},
   "source": [
    "### Check for NaN values in dataframe"
   ]
  },
  {
   "cell_type": "code",
   "execution_count": 6,
   "id": "d873a6ea",
   "metadata": {},
   "outputs": [
    {
     "data": {
      "text/plain": [
       "haematocrit     0\n",
       "haemoglobins    0\n",
       "erythrocyte     0\n",
       "leucocyte       0\n",
       "thrombocyte     0\n",
       "mch             0\n",
       "mchc            0\n",
       "mcv             0\n",
       "age             0\n",
       "sex             0\n",
       "source          0\n",
       "dtype: int64"
      ]
     },
     "execution_count": 6,
     "metadata": {},
     "output_type": "execute_result"
    }
   ],
   "source": [
    "# sum number of NaN values across all columns\n",
    "patient_df.isna().sum()"
   ]
  },
  {
   "cell_type": "markdown",
   "id": "c5b68827",
   "metadata": {},
   "source": [
    "No NaN values in any columns in the dataframe."
   ]
  },
  {
   "cell_type": "markdown",
   "id": "7e421048",
   "metadata": {},
   "source": [
    "### Create dummy variable for sex\n",
    " - sex is a string variable (M or F) and needs to be numeric for the classification models"
   ]
  },
  {
   "cell_type": "code",
   "execution_count": 8,
   "id": "3ad21d3d",
   "metadata": {},
   "outputs": [
    {
     "data": {
      "text/html": [
       "<div>\n",
       "<style scoped>\n",
       "    .dataframe tbody tr th:only-of-type {\n",
       "        vertical-align: middle;\n",
       "    }\n",
       "\n",
       "    .dataframe tbody tr th {\n",
       "        vertical-align: top;\n",
       "    }\n",
       "\n",
       "    .dataframe thead th {\n",
       "        text-align: right;\n",
       "    }\n",
       "</style>\n",
       "<table border=\"1\" class=\"dataframe\">\n",
       "  <thead>\n",
       "    <tr style=\"text-align: right;\">\n",
       "      <th></th>\n",
       "      <th>haematocrit</th>\n",
       "      <th>haemoglobins</th>\n",
       "      <th>erythrocyte</th>\n",
       "      <th>leucocyte</th>\n",
       "      <th>thrombocyte</th>\n",
       "      <th>mch</th>\n",
       "      <th>mchc</th>\n",
       "      <th>mcv</th>\n",
       "      <th>age</th>\n",
       "      <th>source</th>\n",
       "      <th>sex_m</th>\n",
       "    </tr>\n",
       "  </thead>\n",
       "  <tbody>\n",
       "    <tr>\n",
       "      <th>0</th>\n",
       "      <td>35.1</td>\n",
       "      <td>11.8</td>\n",
       "      <td>4.65</td>\n",
       "      <td>6.3</td>\n",
       "      <td>310</td>\n",
       "      <td>25.4</td>\n",
       "      <td>33.6</td>\n",
       "      <td>75.5</td>\n",
       "      <td>1</td>\n",
       "      <td>out</td>\n",
       "      <td>0</td>\n",
       "    </tr>\n",
       "    <tr>\n",
       "      <th>1</th>\n",
       "      <td>43.5</td>\n",
       "      <td>14.8</td>\n",
       "      <td>5.39</td>\n",
       "      <td>12.7</td>\n",
       "      <td>334</td>\n",
       "      <td>27.5</td>\n",
       "      <td>34.0</td>\n",
       "      <td>80.7</td>\n",
       "      <td>1</td>\n",
       "      <td>out</td>\n",
       "      <td>0</td>\n",
       "    </tr>\n",
       "    <tr>\n",
       "      <th>2</th>\n",
       "      <td>33.5</td>\n",
       "      <td>11.3</td>\n",
       "      <td>4.74</td>\n",
       "      <td>13.2</td>\n",
       "      <td>305</td>\n",
       "      <td>23.8</td>\n",
       "      <td>33.7</td>\n",
       "      <td>70.7</td>\n",
       "      <td>1</td>\n",
       "      <td>out</td>\n",
       "      <td>0</td>\n",
       "    </tr>\n",
       "    <tr>\n",
       "      <th>3</th>\n",
       "      <td>39.1</td>\n",
       "      <td>13.7</td>\n",
       "      <td>4.98</td>\n",
       "      <td>10.5</td>\n",
       "      <td>366</td>\n",
       "      <td>27.5</td>\n",
       "      <td>35.0</td>\n",
       "      <td>78.5</td>\n",
       "      <td>1</td>\n",
       "      <td>out</td>\n",
       "      <td>0</td>\n",
       "    </tr>\n",
       "    <tr>\n",
       "      <th>4</th>\n",
       "      <td>30.9</td>\n",
       "      <td>9.9</td>\n",
       "      <td>4.23</td>\n",
       "      <td>22.1</td>\n",
       "      <td>333</td>\n",
       "      <td>23.4</td>\n",
       "      <td>32.0</td>\n",
       "      <td>73.0</td>\n",
       "      <td>1</td>\n",
       "      <td>out</td>\n",
       "      <td>1</td>\n",
       "    </tr>\n",
       "  </tbody>\n",
       "</table>\n",
       "</div>"
      ],
      "text/plain": [
       "   haematocrit  haemoglobins  erythrocyte  leucocyte  thrombocyte   mch  mchc  \\\n",
       "0         35.1          11.8         4.65        6.3          310  25.4  33.6   \n",
       "1         43.5          14.8         5.39       12.7          334  27.5  34.0   \n",
       "2         33.5          11.3         4.74       13.2          305  23.8  33.7   \n",
       "3         39.1          13.7         4.98       10.5          366  27.5  35.0   \n",
       "4         30.9           9.9         4.23       22.1          333  23.4  32.0   \n",
       "\n",
       "    mcv  age source  sex_m  \n",
       "0  75.5    1    out      0  \n",
       "1  80.7    1    out      0  \n",
       "2  70.7    1    out      0  \n",
       "3  78.5    1    out      0  \n",
       "4  73.0    1    out      1  "
      ]
     },
     "execution_count": 8,
     "metadata": {},
     "output_type": "execute_result"
    }
   ],
   "source": [
    "# create dummies\n",
    "sex_dummies = pd.get_dummies(patient_df['sex'], prefix = 'sex')\n",
    "\n",
    "# add dummies to dataframe\n",
    "patient_df[['sex_f', 'sex_m']] = sex_dummies\n",
    "\n",
    "# drop original sex column\n",
    "patient_df1 = patient_df.drop(columns = ['sex', 'sex_f'], axis = 1)\n",
    "\n",
    "# preview dataframe after creation of dummies and dropping sex column\n",
    "patient_df1.head()"
   ]
  },
  {
   "cell_type": "markdown",
   "id": "85bf52b1",
   "metadata": {},
   "source": [
    "### Ensure datatypes for columns are correct\n",
    " - numeric columns should be numeric and string columns (the target, 'source') is object"
   ]
  },
  {
   "cell_type": "code",
   "execution_count": 9,
   "id": "6cbc1f4b",
   "metadata": {},
   "outputs": [
    {
     "name": "stdout",
     "output_type": "stream",
     "text": [
      "haematocrit     float64\n",
      "haemoglobins    float64\n",
      "erythrocyte     float64\n",
      "leucocyte       float64\n",
      "thrombocyte       int64\n",
      "mch             float64\n",
      "mchc            float64\n",
      "mcv             float64\n",
      "age               int64\n",
      "source           object\n",
      "sex_m             uint8\n",
      "dtype: object\n"
     ]
    }
   ],
   "source": [
    "# check datatypes\n",
    "\n",
    "print(patient_df1.dtypes)"
   ]
  },
  {
   "cell_type": "markdown",
   "id": "bbcc3bb3",
   "metadata": {},
   "source": [
    "All datatypes are correct and none need to be changed."
   ]
  },
  {
   "cell_type": "markdown",
   "id": "04e71aac",
   "metadata": {},
   "source": [
    "### Remove patients under the age of 18\n",
    " - patients under the age of 18 are considered pediatric which calls for a different practice of medicine compared to adults, therefore the focus will be on adults.  "
   ]
  },
  {
   "cell_type": "code",
   "execution_count": 10,
   "id": "1e25fd75",
   "metadata": {},
   "outputs": [
    {
     "name": "stdout",
     "output_type": "stream",
     "text": [
      "(4412, 11)\n",
      "[ 1  2  3  4  5  6  7  8  9 10 11 12 13 14 15 16 17 18 19 20 21 22 23 24\n",
      " 25 26 27 28 29 30 31 32 33 34 35 36 37 38 39 40 41 42 43 44 45 46 47 48\n",
      " 49 50 51 52 53 54 55 56 57 58 59 60 61 62 63 64 65 66 67 68 69 70 71 72\n",
      " 73 74 75 76 77 78 79 80 81 82 83 84 85 86 87 88 89 90 91 92 93 98 99]\n"
     ]
    }
   ],
   "source": [
    "# view shape prior to removing patients\n",
    "print(patient_df1.shape)\n",
    "\n",
    "# check age range in dataframe prior to removing patients\n",
    "print(patient_df1.age.unique())"
   ]
  },
  {
   "cell_type": "code",
   "execution_count": 11,
   "id": "79f6e291",
   "metadata": {},
   "outputs": [],
   "source": [
    "# create dataframe of patients who are 18 years of age or older\n",
    "\n",
    "patient_df2 = patient_df1[patient_df1['age'] >= 18]"
   ]
  },
  {
   "cell_type": "code",
   "execution_count": 12,
   "id": "3fdda18f",
   "metadata": {},
   "outputs": [
    {
     "name": "stdout",
     "output_type": "stream",
     "text": [
      "(3971, 11)\n",
      "[18 19 20 21 22 23 24 25 26 27 28 29 30 31 32 33 34 35 36 37 38 39 40 41\n",
      " 42 43 44 45 46 47 48 49 50 51 52 53 54 55 56 57 58 59 60 61 62 63 64 65\n",
      " 66 67 68 69 70 71 72 73 74 75 76 77 78 79 80 81 82 83 84 85 86 87 88 89\n",
      " 90 91 92 93 98 99]\n"
     ]
    }
   ],
   "source": [
    "# view shape of dataframe after removing patients\n",
    "print(patient_df2.shape)\n",
    "\n",
    "# check age range in dataframe after removing patients\n",
    "print(patient_df2.age.unique())"
   ]
  },
  {
   "cell_type": "code",
   "execution_count": 13,
   "id": "a7cf83b8",
   "metadata": {},
   "outputs": [
    {
     "name": "stdout",
     "output_type": "stream",
     "text": [
      "Number of observations removed due to age: 441\n"
     ]
    }
   ],
   "source": [
    "# get difference in dataframe size after removing patients\n",
    "\n",
    "diff = patient_df1.shape[0] - patient_df2.shape[0]\n",
    "\n",
    "print(f'Number of observations removed due to age: {diff}')"
   ]
  },
  {
   "cell_type": "markdown",
   "id": "a35a57e8",
   "metadata": {},
   "source": [
    "### Check for duplicate rows\n",
    " - duplicates can be difficult to find and need to be removed if found"
   ]
  },
  {
   "cell_type": "code",
   "execution_count": 14,
   "id": "e86c1cdb",
   "metadata": {},
   "outputs": [
    {
     "data": {
      "text/html": [
       "<div>\n",
       "<style scoped>\n",
       "    .dataframe tbody tr th:only-of-type {\n",
       "        vertical-align: middle;\n",
       "    }\n",
       "\n",
       "    .dataframe tbody tr th {\n",
       "        vertical-align: top;\n",
       "    }\n",
       "\n",
       "    .dataframe thead th {\n",
       "        text-align: right;\n",
       "    }\n",
       "</style>\n",
       "<table border=\"1\" class=\"dataframe\">\n",
       "  <thead>\n",
       "    <tr style=\"text-align: right;\">\n",
       "      <th></th>\n",
       "      <th>haematocrit</th>\n",
       "      <th>haemoglobins</th>\n",
       "      <th>erythrocyte</th>\n",
       "      <th>leucocyte</th>\n",
       "      <th>thrombocyte</th>\n",
       "      <th>mch</th>\n",
       "      <th>mchc</th>\n",
       "      <th>mcv</th>\n",
       "      <th>age</th>\n",
       "      <th>source</th>\n",
       "      <th>sex_m</th>\n",
       "    </tr>\n",
       "  </thead>\n",
       "  <tbody>\n",
       "  </tbody>\n",
       "</table>\n",
       "</div>"
      ],
      "text/plain": [
       "Empty DataFrame\n",
       "Columns: [haematocrit, haemoglobins, erythrocyte, leucocyte, thrombocyte, mch, mchc, mcv, age, source, sex_m]\n",
       "Index: []"
      ]
     },
     "execution_count": 14,
     "metadata": {},
     "output_type": "execute_result"
    }
   ],
   "source": [
    "# create dataframe of duplicates if found\n",
    "\n",
    "patient_df2[patient_df2.duplicated]"
   ]
  },
  {
   "cell_type": "markdown",
   "id": "cd005e6f",
   "metadata": {},
   "source": [
    "No duplicates were found."
   ]
  },
  {
   "cell_type": "markdown",
   "id": "ef8ae452",
   "metadata": {},
   "source": [
    "### Feature Removal Discussion\n",
    " - No features will be removed during this analysis. There are only 10 features (not including the target, source) and all features, aside from age and gender, are results of laboratory tests from the patient. The removal of a feature(s) will result in loss of data. "
   ]
  },
  {
   "cell_type": "code",
   "execution_count": 15,
   "id": "93cd862a",
   "metadata": {},
   "outputs": [],
   "source": [
    "# export new dataframe after cleaning/transformations\n",
    "\n",
    "patient_df2.to_csv('data-ori_cleaned.csv', index = False)"
   ]
  },
  {
   "cell_type": "code",
   "execution_count": null,
   "id": "a21f7f89",
   "metadata": {},
   "outputs": [],
   "source": []
  }
 ],
 "metadata": {
  "kernelspec": {
   "display_name": "Python 3 (ipykernel)",
   "language": "python",
   "name": "python3"
  },
  "language_info": {
   "codemirror_mode": {
    "name": "ipython",
    "version": 3
   },
   "file_extension": ".py",
   "mimetype": "text/x-python",
   "name": "python",
   "nbconvert_exporter": "python",
   "pygments_lexer": "ipython3",
   "version": "3.8.16"
  }
 },
 "nbformat": 4,
 "nbformat_minor": 5
}
